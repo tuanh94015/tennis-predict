{
 "cells": [
  {
   "cell_type": "code",
   "execution_count": 1,
   "id": "de9dc276",
   "metadata": {},
   "outputs": [],
   "source": [
    "import pandas as pd"
   ]
  },
  {
   "cell_type": "code",
   "execution_count": 4,
   "id": "a7f50051",
   "metadata": {},
   "outputs": [
    {
     "data": {
      "text/html": [
       "<div>\n",
       "<style scoped>\n",
       "    .dataframe tbody tr th:only-of-type {\n",
       "        vertical-align: middle;\n",
       "    }\n",
       "\n",
       "    .dataframe tbody tr th {\n",
       "        vertical-align: top;\n",
       "    }\n",
       "\n",
       "    .dataframe thead th {\n",
       "        text-align: right;\n",
       "    }\n",
       "</style>\n",
       "<table border=\"1\" class=\"dataframe\">\n",
       "  <thead>\n",
       "    <tr style=\"text-align: right;\">\n",
       "      <th></th>\n",
       "      <th>Trời</th>\n",
       "      <th>Nhiệt độ</th>\n",
       "      <th>Độ ẩm</th>\n",
       "      <th>Gió</th>\n",
       "      <th>Chơi tennis</th>\n",
       "    </tr>\n",
       "  </thead>\n",
       "  <tbody>\n",
       "    <tr>\n",
       "      <th>0</th>\n",
       "      <td>nắng</td>\n",
       "      <td>nóng</td>\n",
       "      <td>cao</td>\n",
       "      <td>yếu</td>\n",
       "      <td>không</td>\n",
       "    </tr>\n",
       "    <tr>\n",
       "      <th>1</th>\n",
       "      <td>nắng</td>\n",
       "      <td>nóng</td>\n",
       "      <td>cao</td>\n",
       "      <td>mạnh</td>\n",
       "      <td>không</td>\n",
       "    </tr>\n",
       "    <tr>\n",
       "      <th>2</th>\n",
       "      <td>u ám</td>\n",
       "      <td>nóng</td>\n",
       "      <td>cao</td>\n",
       "      <td>yếu</td>\n",
       "      <td>có</td>\n",
       "    </tr>\n",
       "    <tr>\n",
       "      <th>3</th>\n",
       "      <td>mưa</td>\n",
       "      <td>trung bình</td>\n",
       "      <td>cao</td>\n",
       "      <td>yếu</td>\n",
       "      <td>có</td>\n",
       "    </tr>\n",
       "    <tr>\n",
       "      <th>4</th>\n",
       "      <td>mưa</td>\n",
       "      <td>lạnh</td>\n",
       "      <td>bình thường</td>\n",
       "      <td>yếu</td>\n",
       "      <td>có</td>\n",
       "    </tr>\n",
       "    <tr>\n",
       "      <th>5</th>\n",
       "      <td>mưa</td>\n",
       "      <td>lạnh</td>\n",
       "      <td>bình thường</td>\n",
       "      <td>mạnh</td>\n",
       "      <td>không</td>\n",
       "    </tr>\n",
       "    <tr>\n",
       "      <th>6</th>\n",
       "      <td>u ám</td>\n",
       "      <td>lạnh</td>\n",
       "      <td>bình thường</td>\n",
       "      <td>mạnh</td>\n",
       "      <td>có</td>\n",
       "    </tr>\n",
       "    <tr>\n",
       "      <th>7</th>\n",
       "      <td>nắng</td>\n",
       "      <td>trung bình</td>\n",
       "      <td>cao</td>\n",
       "      <td>yếu</td>\n",
       "      <td>không</td>\n",
       "    </tr>\n",
       "    <tr>\n",
       "      <th>8</th>\n",
       "      <td>nắng</td>\n",
       "      <td>lạnh</td>\n",
       "      <td>bình thường</td>\n",
       "      <td>yếu</td>\n",
       "      <td>có</td>\n",
       "    </tr>\n",
       "    <tr>\n",
       "      <th>9</th>\n",
       "      <td>mưa</td>\n",
       "      <td>trung bình</td>\n",
       "      <td>bình thường</td>\n",
       "      <td>yếu</td>\n",
       "      <td>có</td>\n",
       "    </tr>\n",
       "    <tr>\n",
       "      <th>10</th>\n",
       "      <td>nắng</td>\n",
       "      <td>trung bình</td>\n",
       "      <td>bình thường</td>\n",
       "      <td>mạnh</td>\n",
       "      <td>có</td>\n",
       "    </tr>\n",
       "    <tr>\n",
       "      <th>11</th>\n",
       "      <td>u ám</td>\n",
       "      <td>trung bình</td>\n",
       "      <td>cao</td>\n",
       "      <td>mạnh</td>\n",
       "      <td>có</td>\n",
       "    </tr>\n",
       "    <tr>\n",
       "      <th>12</th>\n",
       "      <td>u ám</td>\n",
       "      <td>nóng</td>\n",
       "      <td>bình thường</td>\n",
       "      <td>yếu</td>\n",
       "      <td>có</td>\n",
       "    </tr>\n",
       "    <tr>\n",
       "      <th>13</th>\n",
       "      <td>mưa</td>\n",
       "      <td>trung bình</td>\n",
       "      <td>cao</td>\n",
       "      <td>mạnh</td>\n",
       "      <td>không</td>\n",
       "    </tr>\n",
       "  </tbody>\n",
       "</table>\n",
       "</div>"
      ],
      "text/plain": [
       "    Trời    Nhiệt độ        Độ ẩm   Gió Chơi tennis\n",
       "0   nắng        nóng          cao   yếu       không\n",
       "1   nắng        nóng          cao  mạnh       không\n",
       "2   u ám        nóng          cao   yếu          có\n",
       "3    mưa  trung bình          cao   yếu          có\n",
       "4    mưa        lạnh  bình thường   yếu          có\n",
       "5    mưa        lạnh  bình thường  mạnh       không\n",
       "6   u ám        lạnh  bình thường  mạnh          có\n",
       "7   nắng  trung bình          cao   yếu       không\n",
       "8   nắng        lạnh  bình thường   yếu          có\n",
       "9    mưa  trung bình  bình thường   yếu          có\n",
       "10  nắng  trung bình  bình thường  mạnh          có\n",
       "11  u ám  trung bình          cao  mạnh          có\n",
       "12  u ám        nóng  bình thường   yếu          có\n",
       "13   mưa  trung bình          cao  mạnh       không"
      ]
     },
     "execution_count": 4,
     "metadata": {},
     "output_type": "execute_result"
    }
   ],
   "source": [
    "df = pd.read_excel('Tennis.xlsx')\n",
    "df"
   ]
  },
  {
   "cell_type": "code",
   "execution_count": 14,
   "id": "1abbbd46",
   "metadata": {},
   "outputs": [],
   "source": [
    "df.to_csv('Tennis.xlsx', index=False)\n"
   ]
  },
  {
   "cell_type": "code",
   "execution_count": 20,
   "id": "c12515b7",
   "metadata": {},
   "outputs": [
    {
     "data": {
      "text/plain": [
       "0     nắng\n",
       "1     nắng\n",
       "2     u ám\n",
       "3      mưa\n",
       "4      mưa\n",
       "5      mưa\n",
       "6     u ám\n",
       "7     nắng\n",
       "8     nắng\n",
       "9      mưa\n",
       "10    nắng\n",
       "11    u ám\n",
       "12    u ám\n",
       "13     mưa\n",
       "Name: Trời, dtype: object"
      ]
     },
     "execution_count": 20,
     "metadata": {},
     "output_type": "execute_result"
    }
   ],
   "source": [
    "# Lấy ra một cột cụ thể\n",
    "column_data = df['Trời']\n",
    "column_data"
   ]
  },
  {
   "cell_type": "code",
   "execution_count": 19,
   "id": "b28e0331",
   "metadata": {},
   "outputs": [
    {
     "data": {
      "text/plain": [
       "Index(['Trời', 'Nhiệt độ', 'Độ ẩm', 'Gió', 'Chơi tennis'], dtype='object')"
      ]
     },
     "execution_count": 19,
     "metadata": {},
     "output_type": "execute_result"
    }
   ],
   "source": [
    "df.columns"
   ]
  },
  {
   "cell_type": "code",
   "execution_count": 26,
   "id": "5c706878",
   "metadata": {},
   "outputs": [
    {
     "data": {
      "text/plain": [
       "Trời            nắng\n",
       "Nhiệt độ        nóng\n",
       "Độ ẩm            cao\n",
       "Gió             mạnh\n",
       "Chơi tennis    không\n",
       "Name: 1, dtype: object"
      ]
     },
     "execution_count": 26,
     "metadata": {},
     "output_type": "execute_result"
    }
   ],
   "source": [
    "# Lấy ra một dòng cụ thể bằng tên\n",
    "#row_data_by_label = df.loc['tên dòng']\n",
    "# Lấy ra một dòng cụ thể bằng chỉ số\n",
    "row_data = df.iloc[1]\n",
    "row_data"
   ]
  },
  {
   "cell_type": "code",
   "execution_count": 27,
   "id": "50104559",
   "metadata": {},
   "outputs": [
    {
     "name": "stdout",
     "output_type": "stream",
     "text": [
      "Số lượng dòng: 14\n",
      "Số lượng cột: 5\n"
     ]
    }
   ],
   "source": [
    "# Lấy thông tin về số lượng dòng và cột\n",
    "num_rows, num_columns = df.shape\n",
    "\n",
    "# In ra kết quả\n",
    "print(f\"Số lượng dòng: {num_rows}\")\n",
    "print(f\"Số lượng cột: {num_columns}\")"
   ]
  },
  {
   "cell_type": "code",
   "execution_count": null,
   "id": "80a6af06",
   "metadata": {},
   "outputs": [],
   "source": []
  },
  {
   "cell_type": "code",
   "execution_count": 30,
   "id": "c540f24d",
   "metadata": {},
   "outputs": [],
   "source": [
    "dataset_path = 'part_1.csv'\n",
    "df = pd.read_csv(dataset_path)"
   ]
  },
  {
   "cell_type": "code",
   "execution_count": 39,
   "id": "9f7d0805",
   "metadata": {},
   "outputs": [],
   "source": [
    "import numpy as np\n",
    "import os"
   ]
  },
  {
   "cell_type": "code",
   "execution_count": 47,
   "id": "a0f20b9f",
   "metadata": {},
   "outputs": [
    {
     "name": "stdout",
     "output_type": "stream",
     "text": [
      "a. Số lượng thuộc tính: 30\n",
      "   Số lượng dòng: 2240\n",
      "b. Số lượng thuộc tính định tính: 3\n",
      "   Số lượng thuộc tính định lượng: 27\n",
      "c. Kiểm tra giá trị thiếu:\n",
      "ID                     0\n",
      "Year_Birth             0\n",
      "Education              0\n",
      "Marital_Status         0\n",
      "Income                 0\n",
      "Kidhome                0\n",
      "Teenhome               0\n",
      "Dt_Customer            0\n",
      "Recency                0\n",
      "MntWines               0\n",
      "MntFruits              0\n",
      "MntMeatProducts        0\n",
      "MntFishProducts        0\n",
      "MntSweetProducts       0\n",
      "MntGoldProds           0\n",
      "NumDealsPurchases      0\n",
      "NumWebPurchases        0\n",
      "NumCatalogPurchases    0\n",
      "NumStorePurchases      0\n",
      "NumWebVisitsMonth      0\n",
      "AcceptedCmp3           0\n",
      "AcceptedCmp4           0\n",
      "AcceptedCmp5           0\n",
      "AcceptedCmp1           0\n",
      "AcceptedCmp2           0\n",
      "Complain               0\n",
      "Z_CostContact          0\n",
      "Z_Revenue              0\n",
      "Response               0\n",
      "Label                  0\n",
      "dtype: int64\n",
      "   Kiểm tra giá trị trùng lặp:\n",
      "Empty DataFrame\n",
      "Columns: [ID, Year_Birth, Education, Marital_Status, Income, Kidhome, Teenhome, Dt_Customer, Recency, MntWines, MntFruits, MntMeatProducts, MntFishProducts, MntSweetProducts, MntGoldProds, NumDealsPurchases, NumWebPurchases, NumCatalogPurchases, NumStorePurchases, NumWebVisitsMonth, AcceptedCmp3, AcceptedCmp4, AcceptedCmp5, AcceptedCmp1, AcceptedCmp2, Complain, Z_CostContact, Z_Revenue, Response, Label]\n",
      "Index: []\n",
      "\n",
      "[0 rows x 30 columns]\n",
      "Đầu vào (X):\n",
      "[[5524 1957 'Graduation' ... 3 11 1]\n",
      " [2174 1954 'Graduation' ... 3 11 0]\n",
      " [4141 1965 'Graduation' ... 3 11 0]\n",
      " ...\n",
      " [7270 1981 'Graduation' ... 3 11 0]\n",
      " [8235 1956 'Master' ... 3 11 0]\n",
      " [9405 1954 'PhD' ... 3 11 1]]\n",
      "\n",
      "Đầu ra (y):\n",
      "[1 0 1 ... 1 1 0]\n"
     ]
    }
   ],
   "source": [
    "\n",
    "#Số lượng thuộc tính và dòng trong bản ghi dữ liệu\n",
    "num_attributes = len(df.columns)\n",
    "num_rows = len(df)\n",
    "\n",
    "print(f\"a. Số lượng thuộc tính: {num_attributes}\")\n",
    "print(f\"   Số lượng dòng: {num_rows}\")\n",
    "#b. Số lượng thuộc tính là kiểu định tính và định lượng\n",
    "num_categorical = df.select_dtypes(include=['object']).shape[1]\n",
    "num_numerical = df.select_dtypes(include=['int', 'float']).shape[1]\n",
    "\n",
    "print(f\"b. Số lượng thuộc tính định tính: {num_categorical}\")\n",
    "print(f\"   Số lượng thuộc tính định lượng: {num_numerical}\")\n",
    "\n",
    "#c. Kiểm tra và xử lý vấn đề trong tập dữ liệu\n",
    "#   - Kiểm tra giá trị thiếu\n",
    "missing_values = df.isnull().sum()\n",
    "print(\"c. Kiểm tra giá trị thiếu:\")\n",
    "print(missing_values)\n",
    "\n",
    "#Xử lý giá trị thiếu (ví dụ: điền giá trị trung bình)\n",
    "df.fillna('Unknow', inplace=True)\n",
    "\n",
    "#Kiểm tra giá trị trùng lặp\n",
    "duplicate_rows = df[df.duplicated()]\n",
    "print(\"   Kiểm tra giá trị trùng lặp:\")\n",
    "print(duplicate_rows)\n",
    "\n",
    "#Xử lý giá trị trùng lặp (ví dụ: loại bỏ các dòng trùng lặp)\n",
    "df.drop_duplicates(inplace=True)\n",
    "\n",
    "# Phân tách đầu ra và đầu vào\n",
    "X = np.array(df.drop(columns=['Label']))  # Đầu vào (features)\n",
    "Y = np.array(df['Label'])  # Đầu ra (labels)\n",
    "\n",
    "# In ra thông tin sau khi phân tách\n",
    "print(\"Đầu vào (X):\")\n",
    "print(X)\n",
    "print(\"\\nĐầu ra (y):\")\n",
    "print(Y)"
   ]
  },
  {
   "cell_type": "code",
   "execution_count": null,
   "id": "d5f3cd3b",
   "metadata": {},
   "outputs": [],
   "source": []
  }
 ],
 "metadata": {
  "kernelspec": {
   "display_name": "Python 3 (ipykernel)",
   "language": "python",
   "name": "python3"
  },
  "language_info": {
   "codemirror_mode": {
    "name": "ipython",
    "version": 3
   },
   "file_extension": ".py",
   "mimetype": "text/x-python",
   "name": "python",
   "nbconvert_exporter": "python",
   "pygments_lexer": "ipython3",
   "version": "3.9.12"
  }
 },
 "nbformat": 4,
 "nbformat_minor": 5
}
